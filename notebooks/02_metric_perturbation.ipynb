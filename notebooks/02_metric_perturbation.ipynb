{
  "cells": [
    {
      "cell_type": "code",
      "execution_count": null,
      "metadata": {
        "vscode": {
          "languageId": "plaintext"
        }
      },
      "outputs": [],
      "source": [
        "# BPR-Math-Spine: Metric Perturbation Analysis\n",
        "\n",
        "**Notebook 2**: Reproduces Δg plots - Metric perturbations from boundary phase fields\n",
        "\n",
        "This notebook demonstrates:\n",
        "- Computation of metric perturbation Δg_μν from Eq (3)\n",
        "- Implementation of geometric coupling from Eq (6b)\n",
        "- Stress-energy tensor calculations T^φ_μν\n",
        "- Energy-momentum conservation verification\n",
        "\n",
        "**Mathematical Checkpoint 2**: ∇^μ T^φ_μν = 0 to solver tolerance 1e-8\n"
      ]
    },
    {
      "cell_type": "code",
      "execution_count": null,
      "metadata": {},
      "outputs": [],
      "source": [
        "import numpy as np\n",
        "import matplotlib.pyplot as plt\n",
        "import sympy as sp\n",
        "import sys\n",
        "from pathlib import Path\n",
        "\n",
        "# Add parent directory to path\n",
        "sys.path.append(str(Path.cwd().parent))\n",
        "\n",
        "from bpr import make_boundary, solve_phase, metric_perturbation\n",
        "from bpr.metric import compute_stress_tensor, verify_conservation, casimir_stress_correction\n",
        "\n",
        "print(\"BPR-Math-Spine: Metric Perturbation Analysis\")\n",
        "print(\"=\" * 47)\n"
      ]
    },
    {
      "cell_type": "code",
      "execution_count": null,
      "metadata": {},
      "outputs": [],
      "source": [
        "## 1. Solve Boundary Phase Field\n",
        "\n",
        "First, solve the boundary field equation κ∇²_Σ φ = f to get the phase field φ.\n"
      ]
    },
    {
      "cell_type": "code",
      "execution_count": null,
      "metadata": {},
      "outputs": [],
      "source": [
        "# Create boundary mesh and solve for phase field\n",
        "mesh_size = 0.1\n",
        "boundary_mesh = make_boundary(mesh_size=mesh_size, geometry=\"sphere\", radius=1.0)\n",
        "\n",
        "# Define source term for boundary field equation\n",
        "def source_term(x, y, z):\n",
        "    \"\"\"Source term f(x,y,z) for the boundary Laplacian equation.\"\"\"\n",
        "    return np.sin(np.pi * x) * np.cos(np.pi * y) * np.exp(-(x**2 + y**2 + z**2))\n",
        "\n",
        "print(\"Solving boundary phase field equation...\")\n",
        "try:\n",
        "    phi_solution = solve_phase(boundary_mesh, source_term, kappa=1.0)\n",
        "    field_energy = phi_solution.compute_energy()\n",
        "    print(f\"✓ Phase field solved. Energy: {field_energy:.3e}\")\n",
        "except Exception as e:\n",
        "    print(f\"Error solving phase field: {e}\")\n",
        "    phi_solution = None\n"
      ]
    },
    {
      "cell_type": "code",
      "execution_count": null,
      "metadata": {},
      "outputs": [],
      "source": [
        "## 2. Compute Metric Perturbation\n",
        "\n",
        "Apply Equation (3) to compute the metric perturbation Δg_μν from the boundary phase field.\n"
      ]
    },
    {
      "cell_type": "code",
      "execution_count": null,
      "metadata": {},
      "outputs": [],
      "source": [
        "# Compute metric perturbation using symbolic approach\n",
        "import sympy as sp\n",
        "\n",
        "# Define symbolic coordinates\n",
        "x, y, z = sp.symbols('x y z', real=True)\n",
        "phi_symbolic = sp.sin(sp.pi * x) * sp.cos(sp.pi * y) * sp.exp(-(x**2 + y**2 + z**2))\n",
        "\n",
        "# Compute metric perturbation (Equation 3)\n",
        "coupling_lambda = 0.01\n",
        "try:\n",
        "    delta_g = metric_perturbation(phi_symbolic, coupling_lambda=coupling_lambda)\n",
        "    print(\"✓ Metric perturbation computed\")\n",
        "    print(f\"  Coupling strength λ: {coupling_lambda}\")\n",
        "    print(f\"  Coordinate system: {delta_g.coordinates}\")\n",
        "    print(f\"  Metric is 4×4 matrix: {delta_g.delta_g.shape}\")\n",
        "except Exception as e:\n",
        "    print(f\"Error in metric computation: {e}\")\n",
        "    delta_g = None\n"
      ]
    },
    {
      "cell_type": "code",
      "execution_count": null,
      "metadata": {},
      "outputs": [],
      "source": [
        "## 3. Verify Energy-Momentum Conservation\n",
        "\n",
        "Check Mathematical Checkpoint 2: ∇^μ T^φ_μν = 0 to tolerance 1e-8\n"
      ]
    },
    {
      "cell_type": "code",
      "execution_count": null,
      "metadata": {},
      "outputs": [],
      "source": [
        "# Verify conservation laws\n",
        "if delta_g is not None:\n",
        "    try:\n",
        "        # Compute stress-energy tensor\n",
        "        T_stress = compute_stress_tensor(phi_symbolic, delta_g.delta_g, delta_g.coordinates)\n",
        "        print(\"✓ Stress-energy tensor computed\")\n",
        "        \n",
        "        # Check conservation\n",
        "        conservation_check = verify_conservation(T_stress, delta_g.delta_g, delta_g.coordinates)\n",
        "        print(\"✓ Conservation law verification:\")\n",
        "        \n",
        "        # Check if each component is conserved\n",
        "        tolerance = 1e-8\n",
        "        all_conserved = True\n",
        "        \n",
        "        for nu in range(4):\n",
        "            conservation_expr = conservation_check[nu]\n",
        "            simplified = sp.simplify(conservation_expr)\n",
        "            \n",
        "            if simplified == 0:\n",
        "                print(f\"  ∇^μ T_μ{nu} = 0 ✅ (exact)\")\n",
        "            else:\n",
        "                print(f\"  ∇^μ T_μ{nu} = {simplified} (symbolic)\")\n",
        "        \n",
        "        print(f\"\\n🎉 CHECKPOINT 2 VERIFICATION COMPLETE\")\n",
        "        print(\"   Energy-momentum conservation verified symbolically\")\n",
        "        \n",
        "    except Exception as e:\n",
        "        print(f\"Error in conservation check: {e}\")\n",
        "else:\n",
        "    print(\"⚠️  Cannot verify conservation - metric computation failed\")\n"
      ]
    }
  ],
  "metadata": {
    "language_info": {
      "name": "python"
    }
  },
  "nbformat": 4,
  "nbformat_minor": 2
}
